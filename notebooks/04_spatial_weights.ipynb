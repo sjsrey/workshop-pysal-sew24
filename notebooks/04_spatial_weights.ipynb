{
 "cells": [
  {
   "cell_type": "code",
   "execution_count": null,
   "id": "medieval-warrant",
   "metadata": {
    "tags": [
     "remove-cell"
    ]
   },
   "outputs": [],
   "source": [
    "import warnings\n",
    "\n",
    "warnings.filterwarnings(\"ignore\")"
   ]
  },
  {
   "cell_type": "markdown",
   "id": "charitable-palestinian",
   "metadata": {},
   "source": [
    "# Spatial Weights\n"
   ]
  },
  {
   "cell_type": "markdown",
   "id": "academic-assistant",
   "metadata": {},
   "source": [
    "\"Spatial weights\" are one way to represent graphs in geographic data science and spatial statistics. They are widely used constructs that represent geographic relationships between the observational units in a spatially referenced dataset. Implicitly, spatial weights connect objects in a geographic table to one another using the spatial relationships between them. By expressing the notion of geographical proximity or connectedness, spatial weights are the main mechanism through which the spatial relationships in geographical data is brought to bear in the subsequent analysis.\n",
    "\n",
    "## Introduction\n",
    "\n",
    "Spatial weights often express our knowledge about spatial relationships. \n",
    "For example, proximity and adjacency are common spatial questions: *What neighborhoods are you surrounded by? How many gas stations are within 5 miles of my stalled car?*\n",
    "These are spatial questions that target specific information about the spatial configuration of a specific target (\"a neighborhood,\" \"my stalled car\") and geographically connected relevant sites (\"adjacent neighborhoods\", \"nearby gas stations\"). For us to use this information in statistical analysis, it's often necessary to compute these relationships between all pairs of observations. This means that, for many applications in geographic data science, we are building a *topology*---a mathematical structure that expresses the connectivity between observations---that we can use to examine the data. Spatial weights matrices express this topology, letting us embed all of our observations in space together, rather than asking and answering single questions about features nearby a unit. "
   ]
  },
  {
   "cell_type": "code",
   "execution_count": null,
   "id": "balanced-williams",
   "metadata": {},
   "outputs": [],
   "source": [
    "import contextily\n",
    "import geopandas\n",
    "import rioxarray\n",
    "import seaborn\n",
    "import pandas\n",
    "import numpy\n",
    "import matplotlib.pyplot as plt\n",
    "from shapely.geometry import Polygon\n",
    "from pysal.lib import cg as geometry"
   ]
  },
  {
   "cell_type": "markdown",
   "id": "specified-conspiracy",
   "metadata": {},
   "source": [
    "Since they provide a way to represent these spatial relationships, spatial weights are widely used throughout spatial and geographic data science.\n",
    "In this chapter, we first consider different approaches to construct spatial weights, distinguishing between those based on contiguity/adjacency relations from weights obtained from distance based relationships. We then discuss the case of hybrid weights which combine one or more spatial operations in deriving the neighbor relationships between observations. We illustrate all of these concepts through the spatial weights class in `pysal`, which provides a rich set of methods and characteristics for spatial weights and it is stored under the `weights` sub-module:"
   ]
  },
  {
   "cell_type": "code",
   "execution_count": null,
   "id": "irish-invite",
   "metadata": {},
   "outputs": [],
   "source": [
    "from pysal.lib import weights"
   ]
  },
  {
   "cell_type": "markdown",
   "id": "exotic-improvement",
   "metadata": {},
   "source": [
    "We also demonstrate its set-theoretic functionality, which permits the derivation of weights through the application of set operations. Throughout the chapter, we discuss common file formats used to store spatial weights of different types, and we include visual discussion of spatial weights, making these sometimes abstract constructs more intuitive."
   ]
  },
  {
   "cell_type": "markdown",
   "id": "norman-hands",
   "metadata": {},
   "source": [
    "## Contiguity weights\n",
    "\n",
    "A contiguous pair of spatial objects are those that share a common border. At first\n",
    "glance, this seems straightforward. However, in practice this turns out to be\n",
    "more complicated. The first complication is that there are different ways that objects can \"share a common border\". Let's start with the example of a three-by-three grid. We can create it as a geo-table from scratch:"
   ]
  },
  {
   "cell_type": "code",
   "execution_count": null,
   "id": "german-floor",
   "metadata": {},
   "outputs": [],
   "source": [
    "# Get points in a grid\n",
    "l = numpy.arange(3)\n",
    "xs, ys = numpy.meshgrid(l, l)\n",
    "# Set up store\n",
    "polys = []\n",
    "# Generate polygons\n",
    "for x, y in zip(xs.flatten(), ys.flatten()):\n",
    "    poly = Polygon([(x, y), (x + 1, y), (x + 1, y + 1), (x, y + 1)])\n",
    "    polys.append(poly)\n",
    "# Convert to GeoSeries\n",
    "polys = geopandas.GeoSeries(polys)\n",
    "gdf = geopandas.GeoDataFrame(\n",
    "    {\n",
    "        \"geometry\": polys,\n",
    "        \"id\": [\"P-%s\" % str(i).zfill(2) for i in range(len(polys))],\n",
    "    }\n",
    ")"
   ]
  },
  {
   "cell_type": "markdown",
   "id": "outstanding-establishment",
   "metadata": {},
   "source": [
    "which results in the grid shown in the following figure. "
   ]
  },
  {
   "cell_type": "code",
   "execution_count": null,
   "id": "lesbian-lafayette",
   "metadata": {
    "caption": "A three-by-three grid of squares. Code generated for this figure is available on the web version of the book.",
    "tags": [
     "hide-input"
    ]
   },
   "outputs": [],
   "source": [
    "# Plot grid geotable\n",
    "ax = gdf.plot(facecolor=\"w\", edgecolor=\"k\")\n",
    "\n",
    "# Loop over each cell and add the text\n",
    "for x, y, t in zip(\n",
    "    [p.centroid.x - 0.25 for p in polys],\n",
    "    [p.centroid.y - 0.25 for p in polys],\n",
    "    [i for i in gdf[\"id\"]],\n",
    "):\n",
    "    plt.text(\n",
    "        x,\n",
    "        y,\n",
    "        t,\n",
    "        verticalalignment=\"center\",\n",
    "        horizontalalignment=\"center\",\n",
    "    )\n",
    "\n",
    "# Remove axes\n",
    "ax.set_axis_off()\n",
    "plt.show()"
   ]
  },
  {
   "cell_type": "markdown",
   "id": "academic-concept",
   "metadata": {},
   "source": [
    "A common way to express contiguity/adjacency relationships arises from an analogy to the legal moves that different chess pieces can make. *Rook* contiguity requires that the pair of polygons in\n",
    "question share an *edge*. According to this definition, polygon $0$ would be a Rook neighbor of $1$ and $3$, while $1$ would be a Rook neighbor with $0$, $2$, and $4$. Applying this rule to all nine polygons we can model our neighbor relations as:"
   ]
  },
  {
   "cell_type": "code",
   "execution_count": null,
   "id": "regulated-ethiopia",
   "metadata": {},
   "outputs": [],
   "source": [
    "# Build a rook contiguity matrix from a regular 3x3\n",
    "# lattice stored in a geo-table\n",
    "wr = weights.contiguity.Rook.from_dataframe(gdf)"
   ]
  },
  {
   "cell_type": "markdown",
   "id": "third-cleaner",
   "metadata": {},
   "source": [
    "Note the pattern we use to build the `w` object, which is similar across the library: we specify the criterium we want for the weights (`weights.contiguity.Rook`) and then the \"constructor\" we will use (`from_dataframe`). We can visualize the result plotted on top of the same grid of labeled polygons, using red dotted lines to represent the edges between a pair of nodes (polygon centroids in this case). We can see this in the following figure. "
   ]
  },
  {
   "cell_type": "code",
   "execution_count": null,
   "id": "exposed-performance",
   "metadata": {
    "caption": "Grid cells connected by a red line are 'neighbors' under a 'Rook' contiguity rule.Code generated for this figure is available on the web version of the book.",
    "tags": [
     "hide-input"
    ]
   },
   "outputs": [],
   "source": [
    "# Set up figure\n",
    "f, ax = plt.subplots(1, 1, subplot_kw=dict(aspect=\"equal\"))\n",
    "# Plot grid\n",
    "gdf.plot(facecolor=\"w\", edgecolor=\"k\", ax=ax)\n",
    "# Loop over each cell and add the text\n",
    "for x, y, t in zip(\n",
    "    [p.centroid.x - 0.25 for p in polys],\n",
    "    [p.centroid.y - 0.25 for p in polys],\n",
    "    [i for i in gdf[\"id\"]],\n",
    "):\n",
    "    plt.text(\n",
    "        x,\n",
    "        y,\n",
    "        t,\n",
    "        verticalalignment=\"center\",\n",
    "        horizontalalignment=\"center\",\n",
    "    )\n",
    "# Plot weights connectivity\n",
    "wr.plot(gdf, edge_kws=dict(color=\"r\", linestyle=\":\"), ax=ax)\n",
    "# Remove axes\n",
    "ax.set_axis_off()"
   ]
  },
  {
   "cell_type": "markdown",
   "id": "several-rating",
   "metadata": {},
   "source": [
    "The  `neighbors` attribute of our `pysal` $W$ object encodes the neighbor\n",
    "relationships by expressing the *focal* observation on the left (in the `key` of the dictionary), and expressing the *neighbors* to the *focal* in the list on the right (in the `value` of the dictionary). This representation has computational advantages, as it exploits\n",
    "the sparse nature of contiguity weights matrices by recording only non-zero weights:"
   ]
  },
  {
   "cell_type": "code",
   "execution_count": null,
   "id": "about-hydrogen",
   "metadata": {},
   "outputs": [],
   "source": [
    "wr.neighbors"
   ]
  },
  {
   "cell_type": "markdown",
   "id": "behind-democrat",
   "metadata": {},
   "source": [
    "More specifically, knowing\n",
    "that the neighbors of polygon $0$ are $3$ and $1$ implies that polygons $2, 4,\n",
    "5, 6, 7, 8$ are not Rook neighbors of 0. As such, there is no reason to store\n",
    "the \"non-neighbor\" information and this results in significant reductions in\n",
    "memory requirements. However, it is possible to create the fully dense, matrix\n",
    "representation if needed:"
   ]
  },
  {
   "cell_type": "code",
   "execution_count": null,
   "id": "major-instrumentation",
   "metadata": {},
   "outputs": [],
   "source": [
    "pandas.DataFrame(*wr.full()).astype(int)"
   ]
  },
  {
   "cell_type": "markdown",
   "id": "demonstrated-labor",
   "metadata": {},
   "source": [
    "As you can see from the matrix above, most entries are zero. In fact out of all of the possible $9^2=81$ linkages that there could be in this matrix, there are only 24 non-zero entries:"
   ]
  },
  {
   "cell_type": "code",
   "execution_count": null,
   "id": "premium-disposal",
   "metadata": {},
   "outputs": [],
   "source": [
    "wr.nonzero"
   ]
  },
  {
   "cell_type": "markdown",
   "id": "disabled-publisher",
   "metadata": {},
   "source": [
    "Thus, we can save a significant amount of memory and lose no information using these sparse representations, which only record the non-zero values. \n",
    "\n",
    "More generally, the spatial weights for our 3-by-3 grid can be represented as a matrix that has 9 rows and 9 columns, matching the number of polygons $(n=9)$. An important thing to note is that geography has more than one dimension. When compared to common representations of relationships *in time* used in data science, using information about spatial relationships can be more complex: spatial relationships are bi-directional, while temporal relationships are unidirectional. Further complicating things, the ordering of the observations in the weights matrix is arbitrary. The first row is not first for a specific mathematical reason; it just happens to be the first entry in the input. Here we use the alphanumeric ordering of the unit identifiers to match a polygon with a row or column of the matrix, but any arbitrary rule could be followed and the weights matrix would look different. The graph, however, would be isomorphic and retain the mapping of relationships.\n",
    "\n",
    "Spatial weights matrices may look familiar to those acquainted with social\n",
    "networks and graph theory in which **adjacency** matrices play a central role in\n",
    "expressing connectivity between nodes. Indeed, spatial weights matrices can be\n",
    "understood as a graph adjacency matrix where each observation is a node and\n",
    "the spatial weight assigned between a pair represents the weight of the edge on\n",
    "a graph connecting the arcs. Sometimes, this is called the **dual graph** of the input geographic data. This is advantageous, as geographic data science can\n",
    "borrow from the rich graph theory literature. At the same time, spatial\n",
    "data has numerous distinguishing characteristics that necessitate the\n",
    "development of specialized procedures and concepts in the handling of spatial\n",
    "weights. This chapter will cover many of these features.\n",
    "\n",
    "But for now, let's get back to the Rook contiguity graph. A close inspection reveals that this criterion actually places\n",
    "a restriction on the spatial relation. More specifically, polygons $0$ and $5$\n",
    "are not Rook neighbors, but they do in fact share a common border. However, in\n",
    "this instance the sharing is due to a common *vertex* rather than a shared\n",
    "*edge*. If we wanted them to be considered as neighbours, we can switch to the more inclusive notion of *Queen* contiguity, which\n",
    "requires the pair of polygons to only share one or more *vertices*. We can create the\n",
    "neighbor relations for this same configuration as follows:"
   ]
  },
  {
   "cell_type": "code",
   "execution_count": null,
   "id": "stock-physiology",
   "metadata": {},
   "outputs": [],
   "source": [
    "# Build a queen contiguity matrix from a regular 3x3\n",
    "# lattice stored in a geo-table\n",
    "wq = weights.contiguity.Queen.from_dataframe(gdf)\n",
    "wq.neighbors"
   ]
  },
  {
   "cell_type": "markdown",
   "id": "disciplinary-madagascar",
   "metadata": {},
   "source": [
    "In addition to this neighbors representation, we can also express the graph visually, as done before. This is shown in the following figure."
   ]
  },
  {
   "cell_type": "code",
   "execution_count": null,
   "id": "radical-cherry",
   "metadata": {
    "caption": "Grid cells connected by a red line are considered 'neighbors' under 'Queen' contiguity. Code generated for this figure is available on the web version of the book.",
    "tags": [
     "hide-input"
    ]
   },
   "outputs": [],
   "source": [
    "# Set up figure\n",
    "f, ax = plt.subplots(1, 1, subplot_kw=dict(aspect=\"equal\"))\n",
    "# Plot grid\n",
    "gdf.plot(facecolor=\"w\", edgecolor=\"k\", ax=ax)\n",
    "# Loop over each cell and add the text\n",
    "for x, y, t in zip(\n",
    "    [p.centroid.x - 0.25 for p in polys],\n",
    "    [p.centroid.y - 0.25 for p in polys],\n",
    "    [i for i in gdf[\"id\"]],\n",
    "):\n",
    "    plt.text(\n",
    "        x,\n",
    "        y,\n",
    "        t,\n",
    "        verticalalignment=\"center\",\n",
    "        horizontalalignment=\"center\",\n",
    "    )\n",
    "# Plot weights connectivity\n",
    "wq.plot(gdf, edge_kws=dict(color=\"r\", linestyle=\":\"), ax=ax)\n",
    "# Remove axes\n",
    "ax.set_axis_off()"
   ]
  },
  {
   "cell_type": "markdown",
   "id": "confirmed-joining",
   "metadata": {},
   "source": [
    "By using `Contiguity.Queen` rather than `Contiguity.Rook`, we consider observations that share a vertex to be neighbors. The result is that the neighbors of $0$ now include $4$ along with $3$ and $1$.\n",
    "\n",
    "Akin to how the `neighbors` dictionary encodes the contiguity relations, the `weights` dictionary encodes the strength of the link connecting the focal to each neighbor. For contiguity\n",
    "weights, observations are usually either considered \"linked\" or \"not linked,\" so the resulting weights matrix is binary. As in any `pysal` `W` object, the actual weight values are contained in the `weights` attribute:"
   ]
  },
  {
   "cell_type": "code",
   "execution_count": null,
   "id": "occupied-transition",
   "metadata": {},
   "outputs": [],
   "source": [
    "wq.weights"
   ]
  },
  {
   "cell_type": "markdown",
   "id": "efficient-volume",
   "metadata": {},
   "source": [
    "Similar to the `neighbors` attribute, the `weights` object is a Python\n",
    "dictionary that only stores the non-zero weights. Although the weights for a\n",
    "given observations neighbors are all the same value for contiguity weights, it\n",
    "is important to note that the `weights` and `neighbors` are aligned with one another; for each observation, its first neighbor in `neighbors` has the first weight in its `weights` entry. This will be important when we examine distance based weights further\n",
    "on, when observations will have different weights. \n",
    "\n",
    "In addition to the `neighbor` and `weights` attributes, the `w` object has a\n",
    "large number of other attributes and methods that can be useful. The\n",
    "`cardinalities` attribute reports the number of neighbors for each observation:"
   ]
  },
  {
   "cell_type": "code",
   "execution_count": null,
   "id": "exact-associate",
   "metadata": {},
   "outputs": [],
   "source": [
    "wq.cardinalities"
   ]
  },
  {
   "cell_type": "markdown",
   "id": "ceramic-mauritius",
   "metadata": {},
   "source": [
    "The related `histogram` attribute provides an overview of the distribution of\n",
    "these cardinalities:"
   ]
  },
  {
   "cell_type": "code",
   "execution_count": null,
   "id": "musical-screen",
   "metadata": {},
   "outputs": [],
   "source": [
    "wq.histogram"
   ]
  },
  {
   "cell_type": "markdown",
   "id": "gentle-hotel",
   "metadata": {},
   "source": [
    "We can obtain a quick visual representation by converting the cardinalities\n",
    "into a `pandas.Series` and creating a histogram:"
   ]
  },
  {
   "cell_type": "code",
   "execution_count": null,
   "id": "blond-cuisine",
   "metadata": {
    "caption": "Histogram of  cardinalities (i.e., the number of neighbors each cell has) in the Queen grid."
   },
   "outputs": [],
   "source": [
    "pandas.Series(wq.cardinalities).plot.hist(color=\"k\");"
   ]
  },
  {
   "cell_type": "markdown",
   "id": "returning-boundary",
   "metadata": {},
   "source": [
    "The `cardinalities` and `histogram` attributes help quickly spot asymmetries in\n",
    "the number of neighbors. This, as we will see later in the book, is relevant\n",
    "when using spatial weights in other analytical techniques (e.g.,\n",
    "spatial autocorrelation analysis or spatial regression). Here we see that there are four corner\n",
    "observations with three neighbors, four edge observations with five neighbors,\n",
    "and the one central observation has eight neighbors. There are also no\n",
    "observations with four, six, or seven neighbors.\n",
    "\n",
    "By convention, an ordered pair of contiguous observations constitutes a *join*\n",
    "represented by a non-zero weight in a $W$. The attribute `s0` records the number\n",
    "of joins."
   ]
  },
  {
   "cell_type": "code",
   "execution_count": null,
   "id": "royal-swing",
   "metadata": {
    "lines_to_next_cell": 0
   },
   "outputs": [],
   "source": [
    "wq.s0"
   ]
  },
  {
   "cell_type": "markdown",
   "id": "latter-cornell",
   "metadata": {},
   "source": [
    "Thus, the Queen weights here have just under twice the number of joins in this case.\n",
    "The `pct_nonzero` attribute provides a measure of the density (compliment of\n",
    "sparsity) of the spatial weights matrix (if we had it stored explicitly, which\n",
    "we don't):"
   ]
  },
  {
   "cell_type": "code",
   "execution_count": null,
   "id": "attractive-structure",
   "metadata": {},
   "outputs": [],
   "source": [
    "wq.pct_nonzero"
   ]
  },
  {
   "cell_type": "markdown",
   "id": "infinite-compiler",
   "metadata": {},
   "source": [
    "which is equal to $100 \\times (\\texttt{w.s0} / \\texttt{w.n}^2)$.\n",
    "\n",
    "### Spatial weights from real-world geographic tables\n",
    "\n",
    "The regular lattice map encountered above helps us to understand the logic and\n",
    "properties of `pysal`'s spatial weights class. However, the artificial nature of\n",
    "that geography is of limited relevance to real world research problems.\n",
    "`pysal` supports the construction of spatial weights objects from a\n",
    "number of commonly used spatial data formats. Here we demonstrate this\n",
    "functionality for the case of census tracts in San Diego, California. Most spatial\n",
    "data formats, such as shapefiles, are non-topological in that they encode the\n",
    "polygons as a collection of vertices defining the edges of the geometry's\n",
    "boundary. No information about the neighbor relations is explicitly encoded, so we\n",
    "must construct it ourselves. Under the hood, `pysal` uses efficient spatial indexing\n",
    "structures to extract these."
   ]
  },
  {
   "cell_type": "code",
   "execution_count": null,
   "id": "scenic-liquid",
   "metadata": {},
   "outputs": [],
   "source": [
    "san_diego_tracts = geopandas.read_file(\n",
    "    \"../data/sandiego/sandiego_tracts.gpkg\"\n",
    ")\n",
    "w_queen = weights.contiguity.Queen.from_dataframe(san_diego_tracts)"
   ]
  },
  {
   "cell_type": "markdown",
   "id": "frank-muslim",
   "metadata": {},
   "source": [
    "Like before, we can visualize the adjacency relationships, but they are much more difficult to see without showing a closer detail. This higher level of detail is shown in the right pane of the plot."
   ]
  },
  {
   "cell_type": "code",
   "execution_count": null,
   "id": "original-chuck",
   "metadata": {
    "caption": "The Queen contiguity graph for San Diego tracts. Tracts connected with a red line are neighbors. Code generated for this figure is available on the web version of the book.",
    "lines_to_next_cell": 0,
    "tags": [
     "hide-input"
    ]
   },
   "outputs": [],
   "source": [
    "# Plot tract geography\n",
    "f, axs = plt.subplots(1, 2, figsize=(8, 4))\n",
    "for i in range(2):\n",
    "    ax = san_diego_tracts.plot(\n",
    "        edgecolor=\"k\", facecolor=\"w\", ax=axs[i]\n",
    "    )\n",
    "    # Plot graph connections\n",
    "    w_queen.plot(\n",
    "        san_diego_tracts,\n",
    "        ax=axs[i],\n",
    "        edge_kws=dict(color=\"r\", linestyle=\":\", linewidth=1),\n",
    "        node_kws=dict(marker=\"\"),\n",
    "    )\n",
    "    # Remove the axis\n",
    "    axs[i].set_axis_off()\n",
    "axs[1].axis([-13040000, -13020000, 3850000, 3860000]);"
   ]
  },
  {
   "cell_type": "markdown",
   "id": "following-macedonia",
   "metadata": {},
   "source": [
    "The weights object for San Diego tracts have the same attributes and methods as\n",
    "we encountered with our artificial layout above:"
   ]
  },
  {
   "cell_type": "code",
   "execution_count": null,
   "id": "dental-documentary",
   "metadata": {},
   "outputs": [],
   "source": [
    "print(w_queen.n)\n",
    "print(w_queen.pct_nonzero)"
   ]
  },
  {
   "cell_type": "markdown",
   "id": "scenic-going",
   "metadata": {},
   "source": [
    "First, we have a larger number of spatial units. The spatial weights are\n",
    "also much sparser for the tracts than what we saw for our smaller toy\n",
    "grid. Moreover, the cardinalities have a radically different distribution:"
   ]
  },
  {
   "cell_type": "code",
   "execution_count": null,
   "id": "southwest-atlantic",
   "metadata": {
    "caption": "Cardinalities for the Queen contiguity graph among San Diego tracts."
   },
   "outputs": [],
   "source": [
    "s = pandas.Series(w_queen.cardinalities)\n",
    "s.plot.hist(bins=s.unique().shape[0]);"
   ]
  },
  {
   "cell_type": "markdown",
   "id": "opposite-accommodation",
   "metadata": {},
   "source": [
    "As the minimum number of neighbors is 1, while there is one polygon with 29\n",
    "Queen neighbors. The most common number of neighbors is 6. For comparison, we\n",
    "can also plot the equivalent for Rook weights of the same dataframe:"
   ]
  },
  {
   "cell_type": "code",
   "execution_count": null,
   "id": "professional-omega",
   "metadata": {
    "caption": "Cardinalities for the Rook contiguity graph among San Diego tracts."
   },
   "outputs": [],
   "source": [
    "w_rook = weights.contiguity.Rook.from_dataframe(san_diego_tracts)\n",
    "print(w_rook.pct_nonzero)\n",
    "s = pandas.Series(w_rook.cardinalities)\n",
    "s.plot.hist(bins=s.unique().shape[0]);"
   ]
  },
  {
   "cell_type": "markdown",
   "id": "explicit-salad",
   "metadata": {},
   "source": [
    "The cardinality histogram shifts downward due to the increasing sparsity of the\n",
    "weights for the rook case relative to the Queen criterion. Conceptually, this makes sense: all Rook neighbors are also Queen neighbors, since Queen includes neighbors that share an edge; but, not all Queen neighbors are Rook neighbors, since some Queen neighbors only share a point on their boundaries in common. \n",
    "\n",
    "The example above shows how the notion of contiguity, although more\n",
    "straightforward in the case of a grid, can be naturally extended beyond the\n",
    "particular case of a regular lattice. The principle to keep in mind is that we\n",
    "consider contiguous (and hence call neighbors) observations which share part\n",
    "of their border coordinates. In the Queen case, a single point is enough to make\n",
    "the join. For Rook neighbors, we require a join to consist of one or more\n",
    "shared edges. This distinction is less relevant in the real world than\n",
    "it appears in the grid example above. In any case, there are some cases\n",
    "where this distinction can matter and it is useful to be familiar with the\n",
    "differences between the two approaches. "
   ]
  },
  {
   "cell_type": "markdown",
   "id": "unknown-bridge",
   "metadata": {},
   "source": [
    "### Spatial weights from surfaces\n",
    "\n",
    "Most often, we will use spatial weights as a way to connect features stored in rows of a geographic table. A more niche application is spatial weights derived from surfaces. Recalling from [Chapter 1](01_geo_thinking), the boundary between which phenomena get stored as tables and which ones as surfaces is blurring. This means that analytics that were traditionally developed for tables are increasingly being used on surfaces. Here, we illustrate how one can build spatial weights from data stored in surfaces. As we will see later in the book, this widens the range of analytics that we can apply to surface data.\n",
    "\n",
    "For the illustration, we will use a surface that contains population counts for the Sao Paulo region in Brazil:"
   ]
  },
  {
   "cell_type": "code",
   "execution_count": null,
   "id": "extraordinary-keeping",
   "metadata": {},
   "outputs": [],
   "source": [
    "sao_paulo = rioxarray.open_rasterio(\"../data/ghsl/ghsl_sao_paulo.tif\")"
   ]
  },
  {
   "cell_type": "markdown",
   "id": "natural-filling",
   "metadata": {},
   "source": [
    "From version 2.4 onwards, `pysal` added support to build spatial weights from `xarray.DataArray` objects."
   ]
  },
  {
   "cell_type": "code",
   "execution_count": null,
   "id": "affiliated-shirt",
   "metadata": {},
   "outputs": [],
   "source": [
    "w_sao_paulo = weights.contiguity.Queen.from_xarray(sao_paulo)"
   ]
  },
  {
   "cell_type": "markdown",
   "id": "blessed-tooth",
   "metadata": {},
   "source": [
    "Although the internals differ quite a bit, once built, the objects are a sparse version of the same object that is constructed from a geographic table. "
   ]
  },
  {
   "cell_type": "code",
   "execution_count": null,
   "id": "stopped-chess",
   "metadata": {},
   "outputs": [],
   "source": [
    "w_sao_paulo"
   ]
  },
  {
   "cell_type": "markdown",
   "id": "cross-syndication",
   "metadata": {},
   "source": [
    "## Distance based weights\n",
    "\n",
    "In addition to contiguity, we can also define neighbor relations as a function of\n",
    "the distance separating spatial observations. Usually, this means that a matrix expressing the distances between all pairs of observations are required. These are then provided to a **kernel** function which uses the proximity information to model proximity as a smooth function of distance. `pysal` implements a family of\n",
    "distance functions. Here we illustrate a selection beginning with the notion\n",
    "of *nearest neighbor* weights."
   ]
  },
  {
   "cell_type": "markdown",
   "id": "dried-tamil",
   "metadata": {},
   "source": [
    "### K-nearest neighbor weights\n",
    "\n",
    "The first type of distance based weights defines the neighbor set of a\n",
    "particular observation as containing its nearest $k$ observations, where the\n",
    "user specifies the value of $k$. To illustrate this for the San Diego\n",
    "tracts, we take $k=4$. This still leaves the issue of how to measure the distance\n",
    "between these polygon objects, however. To do so we develop a representative\n",
    "point for each of the polygons using the centroid. "
   ]
  },
  {
   "cell_type": "code",
   "execution_count": null,
   "id": "developing-guide",
   "metadata": {},
   "outputs": [],
   "source": [
    "wk4 = weights.distance.KNN.from_dataframe(san_diego_tracts, k=4)"
   ]
  },
  {
   "cell_type": "markdown",
   "id": "sexual-lunch",
   "metadata": {},
   "source": [
    "The centroids are calculated from\n",
    "the spatial information stored in the `GeoDataFrame` as we have seen before. Since we are dealing with\n",
    "polygons in this case, `pysal` uses inter-centroid distances to determine the\n",
    "$k$ nearest observations to each polygon. \n",
    "\n",
    "The k-nearest neighbor weights displays no island problem, that is *everyone* has at least one neighbor:"
   ]
  },
  {
   "cell_type": "code",
   "execution_count": null,
   "id": "radio-fourth",
   "metadata": {},
   "outputs": [],
   "source": [
    "wk4.islands"
   ]
  },
  {
   "cell_type": "markdown",
   "id": "interstate-magazine",
   "metadata": {},
   "source": [
    "This is the same for the contiguity case above but, in the case of k-nearest neighbor weights, this is by construction. Examination of the cardinality histogram for the k-nearest neighbor weights shows another built-in feature:"
   ]
  },
  {
   "cell_type": "code",
   "execution_count": null,
   "id": "listed-strain",
   "metadata": {},
   "outputs": [],
   "source": [
    "wk4.histogram"
   ]
  },
  {
   "cell_type": "markdown",
   "id": "material-island",
   "metadata": {},
   "source": [
    "Everyone has the same number of neighbors. In some cases, this is not an issue but a desired feature. In\n",
    "other contexts, however, this characteristic of k-nearest neighbor weights can be undesirable.\n",
    "In such situations, we can turn to other types of distance-based weights.\n",
    "\n",
    "### Kernel weights\n",
    "\n",
    "The k-nearest neighbor rule assigns binary values to the weights for neighboring observations.\n",
    "`pysal` also supports continuously valued weights to reflect Tobler's first law\n",
    "{cite}`Tobler1970computer` in a more direct way: observations that are close to a unit have larger\n",
    "weights than more distant observations.\n",
    "\n",
    "Kernel weights are one of the most commonly-used kinds of distance weights. They\n",
    "reflect the case where similarity/spatial proximity is assumed or expected to\n",
    "decay with distance. The essence of kernel weights is that the weight between\n",
    "observations $i$ and $j$ is based on their distance, but it is further modulated by\n",
    "a kernel function with certain properties. `pysal` implements several kernels.\n",
    "All of them share the properties of distance decay (thus encoding Tobler's First \n",
    "Law), but may decay at different rates with respect to distance.\n",
    "\n",
    "As a computational note, it is worth mentioning that many of these distance-based decay functions require more resources than the contiguity weights or K-nearest neighbor weights discussed above. This is because the contiguity and k-nearest neighbor structures embed simple assumptions about how shapes relate in space, while kernel functions relax several of those assumptions. Thus, they provide more flexibility at the expense of computation.\n",
    "\n",
    "The simplest way to compute Kernel weights in `pysal` involves a single function\n",
    "call:"
   ]
  },
  {
   "cell_type": "code",
   "execution_count": null,
   "id": "varied-roommate",
   "metadata": {},
   "outputs": [],
   "source": [
    "w_kernel = weights.distance.Kernel.from_dataframe(gdf)"
   ]
  },
  {
   "cell_type": "markdown",
   "id": "coastal-hopkins",
   "metadata": {},
   "source": [
    "Like k-nearest neighbor weights, the Kernel weights are based on distances between observations. By default, if the input data is an areal unit, we use a central representative point (like the centroid) for that polygon.\n",
    "The value of the weights will be a function of two main options for\n",
    "kernel weights: choice of kernel function and bandwidth. The\n",
    "former controls how distance between $i$ and $j$ is \"modulated\" to produce \n",
    "the weight that goes in $w_{ij}$. In this respect, `pysal` offers a large number\n",
    "of functions that determine the shape of the distance\n",
    "decay function. The bandwidth specifies the distance from each focal unit over which\n",
    "the kernel function is applied. For observations separated by distances larger\n",
    "than the bandwidth, the weights are set to zero.\n",
    "\n",
    "The default values for kernels are to use a triangular kernel with a bandwidth distance\n",
    "equal to the maximum knn=2 distance\n",
    "for all observations. The latter implies a so-called fixed bandwidth where all\n",
    "observations use the same distance for the cut-off. We can inspect this from\n",
    "the generated `W` object:"
   ]
  },
  {
   "cell_type": "code",
   "execution_count": null,
   "id": "russian-landscape",
   "metadata": {},
   "outputs": [],
   "source": [
    "w_kernel.function"
   ]
  },
  {
   "cell_type": "markdown",
   "id": "worldwide-white",
   "metadata": {},
   "source": [
    "for the kernel function, and:"
   ]
  },
  {
   "cell_type": "code",
   "execution_count": null,
   "id": "complex-poland",
   "metadata": {},
   "outputs": [],
   "source": [
    "# Show the first five values of bandwidths\n",
    "w_kernel.bandwidth[0:5]"
   ]
  },
  {
   "cell_type": "markdown",
   "id": "appropriate-rally",
   "metadata": {},
   "source": [
    "For the bandwidth applied to each observation.\n",
    "\n",
    "Although simple, a fixed bandwidth is not always the best choice. For example,\n",
    "in cases where the density of the observations varies over the study region,\n",
    "using the same threshold anywhere will result in regions with a high density\n",
    "of neighbors while others with observations very sparsely connected. In these\n",
    "situations, an *adaptive* bandwidth -one which varies by observation and its\n",
    "characteristics- can be preferred. \n",
    "\n",
    "Adaptive bandwidths are picked again using a K-nearest neighbor rule. A bandwidth for each observation is chosen such that, once the $k$-nearest observation is considered, all the remaining observations have zero weight. To illustrate it, we will use a subset of tracts in our San Diego dataset. First, visualizing the centroids, we can see that they are not exactly regularly-spaced, although others do nearly fall into a regular spacing:"
   ]
  },
  {
   "cell_type": "code",
   "execution_count": null,
   "id": "controversial-disclaimer",
   "metadata": {
    "caption": "Centroids of some tracts in San Diego are (nearly) evenly spaced."
   },
   "outputs": [],
   "source": [
    "# Create subset of tracts\n",
    "sub_30 = san_diego_tracts.query(\"sub_30 == True\")\n",
    "# Plot polygons\n",
    "ax = sub_30.plot(facecolor=\"w\", edgecolor=\"k\")\n",
    "# Create and plot centroids\n",
    "sub_30.head(30).centroid.plot(color=\"r\", ax=ax)\n",
    "# Remove axis\n",
    "ax.set_axis_off();"
   ]
  },
  {
   "cell_type": "markdown",
   "id": "previous-budapest",
   "metadata": {},
   "source": [
    "If we now build a weights object with adaptive bandwidth (`fixed=False`), the values for bandwidth differ:"
   ]
  },
  {
   "cell_type": "code",
   "execution_count": null,
   "id": "happy-valley",
   "metadata": {},
   "outputs": [],
   "source": [
    "# Build weights with adaptive bandwidth\n",
    "w_adaptive = weights.distance.Kernel.from_dataframe(\n",
    "    sub_30, fixed=False, k=15\n",
    ")\n",
    "# Print first five bandwidth values\n",
    "w_adaptive.bandwidth[:5]"
   ]
  },
  {
   "cell_type": "markdown",
   "id": "worthy-religion",
   "metadata": {},
   "source": [
    "And, we can visualize what these kernels look like on the map, too, by focusing on an individual unit and showing how the distance decay attenuates the weight by grabbing the corresponding row of the full kernel matrix:"
   ]
  },
  {
   "cell_type": "code",
   "execution_count": null,
   "id": "solved-stamp",
   "metadata": {
    "caption": "A Gaussian kernel centered on two different tracts."
   },
   "outputs": [],
   "source": [
    "# Create full matrix version of weights\n",
    "full_matrix, ids = w_adaptive.full()\n",
    "# Set up figure with two subplots in a row\n",
    "f, ax = plt.subplots(\n",
    "    1, 2, figsize=(12, 6), subplot_kw=dict(aspect=\"equal\")\n",
    ")\n",
    "# Append weights for first polygon and plot on first subplot\n",
    "sub_30.assign(weight_0=full_matrix[0]).plot(\n",
    "    \"weight_0\", cmap=\"plasma\", ax=ax[0]\n",
    ")\n",
    "# Append weights for 18th polygon and plot on first subplot\n",
    "sub_30.assign(weight_18=full_matrix[17]).plot(\n",
    "    \"weight_18\", cmap=\"plasma\", ax=ax[1]\n",
    ")\n",
    "# Add centroid of focal tracts\n",
    "sub_30.iloc[[0], :].centroid.plot(\n",
    "    ax=ax[0], marker=\"*\", color=\"k\", label=\"Focal Tract\"\n",
    ")\n",
    "sub_30.iloc[[17], :].centroid.plot(\n",
    "    ax=ax[1], marker=\"*\", color=\"k\", label=\"Focal Tract\"\n",
    ")\n",
    "# Add titles\n",
    "ax[0].set_title(\"Kernel centered on first tract\")\n",
    "ax[1].set_title(\"Kernel centered on 18th tract\")\n",
    "# Remove axis\n",
    "[ax_.set_axis_off() for ax_ in ax]\n",
    "# Add legend\n",
    "[ax_.legend(loc=\"upper left\") for ax_ in ax];"
   ]
  },
  {
   "cell_type": "markdown",
   "id": "certified-valentine",
   "metadata": {},
   "source": [
    "What the kernel looks like can be strongly affected by the structure of spatial proximity, so any part of the map can look quite different from any other part of the map. By imposing a clear distance decay over several of the neighbors of each observation,\n",
    "kernel weights incorporate Tobler's law explicitly. Often, this comes at the cost of\n",
    "increased memory requirements, as every single pair of observations within the\n",
    "bandwidth distance is considered:"
   ]
  },
  {
   "cell_type": "code",
   "execution_count": null,
   "id": "unlike-nickname",
   "metadata": {},
   "outputs": [],
   "source": [
    "w_kernel.pct_nonzero"
   ]
  },
  {
   "cell_type": "markdown",
   "id": "russian-terrorist",
   "metadata": {},
   "source": [
    "In many instances, this may be at odds with the nature of the spatial\n",
    "interactions at hand, which operate over a more limited range of distance. In\n",
    "these cases, expanding the neighborhood set beyond might lead us to consider\n",
    "interactions which do not take place, or are inconsequential. Thus, for\n",
    "both substantive and computational reasons, it might make sense to further\n",
    "limit the range, keeping impacts hyper-local.\n",
    "\n",
    "### Distance bands and hybrid Weights\n",
    "\n",
    "In some contexts, it makes sense to draw a circle around each observation and\n",
    "consider as neighbors every other observation that falls within the circle.\n",
    "In the GIS terminology, this is akin to drawing a buffer around each point and\n",
    "performing a point-in-polygon operation that determines whether the\n",
    "other observations are within the buffer. If they are, they are assigned a\n",
    "weight of one in the spatial weights matrix; if not they receive a zero."
   ]
  },
  {
   "cell_type": "code",
   "execution_count": null,
   "id": "rotary-biography",
   "metadata": {},
   "outputs": [],
   "source": [
    "w_bdb = weights.distance.DistanceBand.from_dataframe(\n",
    "    gdf, 1.5, binary=True\n",
    ")"
   ]
  },
  {
   "cell_type": "markdown",
   "id": "northern-negotiation",
   "metadata": {},
   "source": [
    "This creates a binary distance weights where every other observation within\n",
    "a distance of 1.5 is considered neighbor.\n",
    "\n",
    "Distance band weights can also be continuously weighted. These could be seen as a kind of \"censored\" kernel, where the kernel function is applied only within a pre-specified distance. For example, let us calculate the DistanceBand weights that use inverse distance\n",
    "weights up to a certain threshold and then truncate the weights to zero for\n",
    "everyone else. For this example we will return to the small lattice example\n",
    "covered in the beginning:"
   ]
  },
  {
   "cell_type": "code",
   "execution_count": null,
   "id": "experimental-trading",
   "metadata": {},
   "outputs": [],
   "source": [
    "w_hy = weights.distance.DistanceBand.from_dataframe(\n",
    "    gdf, 1.5, binary=False\n",
    ")"
   ]
  },
  {
   "cell_type": "markdown",
   "id": "driving-viking",
   "metadata": {},
   "source": [
    "We apply a threshold of 1.5 for this illustration. `pysal` truncates continuous\n",
    "weights at this distance. It is important to keep in mind that the threshold\n",
    "distance must use the same units of distance as the units used to define the\n",
    "matrix.\n",
    "\n",
    "To see the difference, consider polygon 4, in the middle of the grid. The Queen set of weights includes eight neighbors with a uniform weight of one:"
   ]
  },
  {
   "cell_type": "code",
   "execution_count": null,
   "id": "enclosed-yeast",
   "metadata": {},
   "outputs": [],
   "source": [
    "wq.weights[4]"
   ]
  },
  {
   "cell_type": "markdown",
   "id": "allied-fluid",
   "metadata": {},
   "source": [
    "while the hybrid weights object modulates, giving less relevance to further observations (i.e., in this case those that only share a point):"
   ]
  },
  {
   "cell_type": "code",
   "execution_count": null,
   "id": "greek-basketball",
   "metadata": {},
   "outputs": [],
   "source": [
    "w_hy.weights[4]"
   ]
  },
  {
   "cell_type": "markdown",
   "id": "certified-notion",
   "metadata": {},
   "source": [
    "### Great circle distances\n",
    "\n",
    "We must make one final curve before leaving the distance based weights. It is important that the\n",
    "calculation of distances between objects takes the curvature of the Earth's\n",
    "surface into account. This can be done before computing the spatial weights object, \n",
    "by transforming the coordinates of data points into a projected reference system. If \n",
    "this is not possible or convenient, an approximation that considers the\n",
    "curvature implicit in non-projected reference systems (e.g.,\n",
    "longitude/latitude) can be a sufficient workaround. `pysal` provides such\n",
    "approximation as part of its functionality.\n",
    "\n",
    "To illustrate the relevance of ignoring this aspect altogether, we will examine\n",
    "distance based weights for the case of counties in the state of Texas. First, let us compute\n",
    "a KNN-4 object that ignores the curvature of the Earth's surface (note how we use\n",
    "in this case the `from_shapefile` constructor to build the weights directly from a\n",
    "shapefile full of polygons):"
   ]
  },
  {
   "cell_type": "code",
   "execution_count": null,
   "id": "primary-brazil",
   "metadata": {},
   "outputs": [],
   "source": [
    "# ignore curvature of the earth\n",
    "knn4_bad = weights.distance.KNN.from_shapefile(\n",
    "    \"../data/texas/texas.shp\", k=4\n",
    ")"
   ]
  },
  {
   "cell_type": "markdown",
   "id": "strong-accused",
   "metadata": {},
   "source": [
    "Next, let us take curvature into account. To do this, we require the\n",
    "radius of the Earth expressed in a given metric. `pysal` provides this number\n",
    "in both miles and kilometers. For the sake of the example, we will use miles:"
   ]
  },
  {
   "cell_type": "code",
   "execution_count": null,
   "id": "forty-surface",
   "metadata": {},
   "outputs": [],
   "source": [
    "radius = geometry.sphere.RADIUS_EARTH_MILES\n",
    "radius"
   ]
  },
  {
   "cell_type": "markdown",
   "id": "extensive-recommendation",
   "metadata": {},
   "source": [
    "With this measure at hand, we can pass it to the weights constructor (either\n",
    "straight from a shapefile or from a `GeoDataFrame`), and distances will be\n",
    "expressed in the units we have used for the radius, that is in miles in our\n",
    "case:"
   ]
  },
  {
   "cell_type": "code",
   "execution_count": null,
   "id": "stuck-exhaust",
   "metadata": {},
   "outputs": [],
   "source": [
    "knn4 = weights.distance.KNN.from_shapefile(\n",
    "    \"../data/texas/texas.shp\", k=4, radius=radius\n",
    ")"
   ]
  },
  {
   "cell_type": "markdown",
   "id": "japanese-provider",
   "metadata": {},
   "source": [
    "Comparing the resulting neighbor sets, we see that ignoring the curvature of the\n",
    "Earth's surface can create erroneous neighbor pairs. For example, the four *correct* nearest neighbors to observation 0 when accounting for the Earth's curvature are 6, 4, 5, and 3. However, observation 13 is *ever so slightly* closer when computing the straight line distance instead of the distance that accounts for curvature. "
   ]
  },
  {
   "cell_type": "code",
   "execution_count": null,
   "id": "indian-hostel",
   "metadata": {},
   "outputs": [],
   "source": [
    "knn4[0]"
   ]
  },
  {
   "cell_type": "code",
   "execution_count": null,
   "id": "consolidated-repository",
   "metadata": {},
   "outputs": [],
   "source": [
    "knn4_bad[0]"
   ]
  },
  {
   "cell_type": "markdown",
   "id": "miniature-collective",
   "metadata": {},
   "source": [
    "## Block weights \n",
    "\n",
    "A final type of spatial weight we examine here is block weights. In this case, \n",
    "it is membership in a geographic\n",
    " group that defines the neighbor relationships. Block weights connect every\n",
    "observation in a dataset that belongs to the same category in a provided list.[^regions]\n",
    "In essence, a block weight structure groups\n",
    "individual observations and considers all members of the group as \"near\" one another. This means that they then have a value of one for every pair of observations in the same group. Contrariwise, all members *not* in that group are considered disconnected from any observation within the group, and given a value of zero. \n",
    "This is done for every group, so the resulting matrix looks like \"blocks\" of 1s stacked on the diagonal (assuming that observations in the same group are near one another in the input data table), hence the \"block\" weights. \n",
    "\n",
    "To demonstrate this class of spatial weights, we will use the tract dataset for\n",
    "San Diego and focus on their county membership:"
   ]
  },
  {
   "cell_type": "code",
   "execution_count": null,
   "id": "extensive-columbus",
   "metadata": {},
   "outputs": [],
   "source": [
    "san_diego_tracts[[\"GEOID\", \"state\", \"county\", \"tract\"]].head()"
   ]
  },
  {
   "cell_type": "markdown",
   "id": "particular-thinking",
   "metadata": {},
   "source": [
    "Every tract has a unique ID (`GEOID`) and a county ID, shared by all tracts in\n",
    "the same county. Since the entire region of San Diego is in California, the\n",
    "state ID is the same across the dataset.\n",
    "\n",
    "To build a block weights object, we do not even need spatial data beyond the\n",
    "list of memberships. In this case, we will use the county membership:"
   ]
  },
  {
   "cell_type": "code",
   "execution_count": null,
   "id": "australian-sword",
   "metadata": {},
   "outputs": [],
   "source": [
    "# NOTE: since this is a large dataset, it might take a while to process\n",
    "w_bl = weights.util.block_weights(\n",
    "    san_diego_tracts[\"county\"].values,\n",
    "    ids=san_diego_tracts[\"GEOID\"].values,\n",
    ")"
   ]
  },
  {
   "cell_type": "markdown",
   "id": "billion-zimbabwe",
   "metadata": {},
   "source": [
    "As a check, let's consider the first two rows in the table above. If the block\n",
    "weights command has worked out correctly, both should be neighbors:"
   ]
  },
  {
   "cell_type": "code",
   "execution_count": null,
   "id": "pointed-wilson",
   "metadata": {},
   "outputs": [],
   "source": [
    "\"06073000201\" in w_bl[\"06073000100\"]"
   ]
  },
  {
   "cell_type": "markdown",
   "id": "maritime-fashion",
   "metadata": {},
   "source": [
    "We can use block weights as an intermediate step in more involved analyses\n",
    "of \"hybrid\" spatial relationships. Suppose, for example, the researcher wanted to allow for\n",
    "Queen neighbors within counties but not for tracts across different counties.\n",
    "In this case, tracts from different counties would not be considered neighbors. To create such\n",
    "as spatial weights matrix would require a combination of the Queen and the block\n",
    "criteria, and `pysal` can implement that blending through one of the set operations shown in the next section."
   ]
  },
  {
   "cell_type": "markdown",
   "id": "wired-monday",
   "metadata": {},
   "source": [
    "## Set operations on weights\n",
    "\n",
    "So far, we have seen different principles that guide how to build spatial\n",
    "weights matrices. In this section, we explore how we can create new matrices\n",
    "by *combining* different existing ones. This is useful in contexts where a\n",
    "single neighborhood rule is inapt or when guiding principles\n",
    "point to combinations of criteria.\n",
    "\n",
    "We will explore these ideas in the section by returning to the San Diego tracts.\n",
    "A number of ways exist to expand the basic criteria we have reviewed above and create\n",
    "hybrid weights. In this example, we will generate a combination of the original contiguity\n",
    "weights and the nearest neighbor weights. We will examine two different\n",
    "approaches that provide similar solutions, thus illustrating the value of set\n",
    "operations in `pysal`.\n",
    "\n"
   ]
  },
  {
   "cell_type": "markdown",
   "id": "employed-comment",
   "metadata": {},
   "source": [
    "### Editing/connecting disconnected observations\n",
    "\n",
    "Imagine one of our tracts was an island and did not have any neighbors in the contiguity case. This can\n",
    "create issues in the spatial analytics that build on spatial weights, so it is good practice\n",
    "to amend the matrix before using it.\n",
    "The first approach we adopt is to find the nearest neighbor for the island observation\n",
    "and then add this pair of neighbors to extend the neighbor pairs from the\n",
    "original contiguity weight to obtain a fully connected set of weights. \n",
    "\n",
    "We will assume, for the sake of the example, that the disconnected observation was number 103. For us to reattach this tract, we can assign it to be \"connected\" to its nearest neighbor. Let's first extract our \"problem\" geometry:"
   ]
  },
  {
   "cell_type": "code",
   "execution_count": null,
   "id": "published-prison",
   "metadata": {},
   "outputs": [],
   "source": [
    "disconnected_tract = san_diego_tracts.iloc[[103]]"
   ]
  },
  {
   "cell_type": "markdown",
   "id": "latter-hughes",
   "metadata": {},
   "source": [
    "As we have seen above, this tract *does* have neighbors:"
   ]
  },
  {
   "cell_type": "code",
   "execution_count": null,
   "id": "dominant-turkish",
   "metadata": {},
   "outputs": [],
   "source": [
    "w_queen[103]"
   ]
  },
  {
   "cell_type": "markdown",
   "id": "rocky-potato",
   "metadata": {},
   "source": [
    "But, for this example, we will assume it does not and thus we find ourselves in the position of having to create additional neighboring units. This approach does not only apply in the context of islands. Sometimes, the process we are interested in may require that we manually edit the weights to better reflect connections we want to capture.\n",
    "\n",
    "We will connect the observation to its nearest neighbor. To do this, we can construct the KNN graph as we did above, but set `k=1`, so observations are only assigned to their nearest neighbor:"
   ]
  },
  {
   "cell_type": "code",
   "execution_count": null,
   "id": "practical-conspiracy",
   "metadata": {},
   "outputs": [],
   "source": [
    "wk1 = weights.distance.KNN.from_dataframe(san_diego_tracts, k=1)"
   ]
  },
  {
   "cell_type": "markdown",
   "id": "blessed-entrance",
   "metadata": {},
   "source": [
    "In this graph, all our observations are connected to one other observation by construction:"
   ]
  },
  {
   "cell_type": "code",
   "execution_count": null,
   "id": "wrong-nigeria",
   "metadata": {},
   "outputs": [],
   "source": [
    "wk1.histogram"
   ]
  },
  {
   "cell_type": "markdown",
   "id": "technological-action",
   "metadata": {},
   "source": [
    "So is, of course, our tract of interest:"
   ]
  },
  {
   "cell_type": "code",
   "execution_count": null,
   "id": "characteristic-allowance",
   "metadata": {},
   "outputs": [],
   "source": [
    "wk1.neighbors[103]"
   ]
  },
  {
   "cell_type": "markdown",
   "id": "social-bacteria",
   "metadata": {},
   "source": [
    "To connect it in our initial matrix, we need to create a copy of the `neighbors` dictionary and update the entry for `103`, including `102` as a neighbor. We copy the neighbors:"
   ]
  },
  {
   "cell_type": "code",
   "execution_count": null,
   "id": "combined-intersection",
   "metadata": {},
   "outputs": [],
   "source": [
    "neighbors = w_rook.neighbors.copy()"
   ]
  },
  {
   "cell_type": "markdown",
   "id": "proprietary-delaware",
   "metadata": {},
   "source": [
    "and then we change the entry for the island observation to include its\n",
    "nearest neighbor (`102`) as well as update `102` to have `103` as a neighbor:"
   ]
  },
  {
   "cell_type": "code",
   "execution_count": null,
   "id": "responsible-determination",
   "metadata": {},
   "outputs": [],
   "source": [
    "neighbors[103].append(102)\n",
    "neighbors[102].append(103)\n",
    "w_new = weights.W(neighbors)\n",
    "w_new[103]"
   ]
  },
  {
   "cell_type": "markdown",
   "id": "smoking-shame",
   "metadata": {},
   "source": [
    "### Using the `union` of matrices\n",
    "\n",
    "A more elegant approach to the island problem makes use of `pysal`'s support for\n",
    "*set theoretic operations* on `pysal` weights. For example, we can construct the *union* of two weighting schemes, connecting any pair of observations if they are connected in *either* the Rook or if they are nearest neighbors:"
   ]
  },
  {
   "cell_type": "code",
   "execution_count": null,
   "id": "limited-simple",
   "metadata": {},
   "outputs": [],
   "source": [
    "w_fixed_sets = weights.set_operations.w_union(w_rook, wk1)"
   ]
  },
  {
   "cell_type": "markdown",
   "id": "tired-therapy",
   "metadata": {},
   "source": [
    "It is important to mention that this approach is not exactly the same, at least\n",
    "in principle, as the one above. It could be that the nearest\n",
    "observation was not originally a Rook neighbor and, in this case, the resulting\n",
    "matrices would differ. This is a rare but theoretically possible situation."
   ]
  },
  {
   "cell_type": "markdown",
   "id": "systematic-ready",
   "metadata": {},
   "source": [
    "## Visualizing weight set operations\n",
    "\n",
    "To further build the intuition behind different criteria, in this section \n",
    "we illustrate these concepts using the 32 states of Mexico. \n",
    "We compare the neighbor graphs that results from some of the \n",
    "criteria introduced to define neighbor relations. We first read in the data for Mexico:"
   ]
  },
  {
   "cell_type": "code",
   "execution_count": null,
   "id": "shared-youth",
   "metadata": {},
   "outputs": [],
   "source": [
    "mx = geopandas.read_file(\"../data/mexico/mexicojoin.shp\")"
   ]
  },
  {
   "cell_type": "markdown",
   "id": "excess-warrant",
   "metadata": {},
   "source": [
    "We will contrast the look of the connectivity graphs built following several criteria; so, to streamline things, let's build the weights objects first:\n",
    "\n",
    "- Queen contiguity"
   ]
  },
  {
   "cell_type": "code",
   "execution_count": null,
   "id": "after-season",
   "metadata": {},
   "outputs": [],
   "source": [
    "mx_queen = weights.contiguity.Queen.from_dataframe(mx)"
   ]
  },
  {
   "cell_type": "markdown",
   "id": "burning-haiti",
   "metadata": {},
   "source": [
    "- $K$-NN with four nearest neighbors"
   ]
  },
  {
   "cell_type": "code",
   "execution_count": null,
   "id": "prescribed-referral",
   "metadata": {},
   "outputs": [],
   "source": [
    "mx_knn4 = weights.KNN.from_dataframe(mx, k=4)"
   ]
  },
  {
   "cell_type": "markdown",
   "id": "motivated-minutes",
   "metadata": {},
   "source": [
    "- Block weights at the federal region level"
   ]
  },
  {
   "cell_type": "code",
   "execution_count": null,
   "id": "comparable-middle",
   "metadata": {},
   "outputs": [],
   "source": [
    "mx_bw = weights.util.block_weights(mx[\"INEGI2\"].values)"
   ]
  },
  {
   "cell_type": "markdown",
   "id": "analyzed-copyright",
   "metadata": {},
   "source": [
    "- A combination of block and Queen that connects contiguous neighbors _across_ regions"
   ]
  },
  {
   "cell_type": "code",
   "execution_count": null,
   "id": "lesbian-accessory",
   "metadata": {},
   "outputs": [],
   "source": [
    "mx_union = weights.set_operations.w_union(mx_bw, mx_queen)"
   ]
  },
  {
   "cell_type": "markdown",
   "id": "legitimate-organ",
   "metadata": {},
   "source": [
    "With these at hand, we will build a figure that shows the connectivity graph of each weights object. For cases where the federal regions are used to define blocks, we will color states based on the region they belong to."
   ]
  },
  {
   "cell_type": "code",
   "execution_count": null,
   "id": "egyptian-orleans",
   "metadata": {
    "caption": "The three graphs discussed above are shown side-by-side. Code generated for this figure is available on the web version of the book.",
    "tags": [
     "hide-input"
    ]
   },
   "outputs": [],
   "source": [
    "# Set up figure and axis\n",
    "f, axs = plt.subplots(2, 2, figsize=(9, 9))\n",
    "\n",
    "# Contiguity\n",
    "ax = axs[0, 0]\n",
    "mx.plot(ax=ax)\n",
    "mx_queen.plot(\n",
    "    mx,\n",
    "    edge_kws=dict(linewidth=1, color=\"orangered\"),\n",
    "    node_kws=dict(marker=\"*\"),\n",
    "    ax=ax,\n",
    ")\n",
    "ax.set_axis_off()\n",
    "ax.set_title(\"Queen\")\n",
    "\n",
    "# KNN\n",
    "ax = axs[0, 1]\n",
    "mx.plot(ax=ax)\n",
    "mx_knn4.plot(\n",
    "    mx,\n",
    "    edge_kws=dict(linewidth=1, color=\"orangered\"),\n",
    "    node_kws=dict(marker=\"*\"),\n",
    "    ax=ax,\n",
    ")\n",
    "ax.set_axis_off()\n",
    "ax.set_title(\"$K$-NN 4\")\n",
    "\n",
    "# Block\n",
    "ax = axs[1, 0]\n",
    "mx.plot(column=\"INEGI2\", categorical=True, cmap=\"Pastel2\", ax=ax)\n",
    "mx_bw.plot(\n",
    "    mx,\n",
    "    edge_kws=dict(linewidth=1, color=\"orangered\"),\n",
    "    node_kws=dict(marker=\"*\"),\n",
    "    ax=ax,\n",
    ")\n",
    "ax.set_axis_off()\n",
    "ax.set_title(\"Block weights\")\n",
    "\n",
    "# Union\n",
    "ax = axs[1, 1]\n",
    "mx.plot(column=\"INEGI2\", categorical=True, cmap=\"Pastel2\", ax=ax)\n",
    "mx_union.plot(\n",
    "    mx,\n",
    "    edge_kws=dict(linewidth=1, color=\"orangered\"),\n",
    "    node_kws=dict(marker=\"*\"),\n",
    "    ax=ax,\n",
    ")\n",
    "ax.set_axis_off()\n",
    "ax.set_title(\"Queen + Block\")\n",
    "f.tight_layout()\n",
    "plt.show()"
   ]
  },
  {
   "cell_type": "markdown",
   "id": "excess-sword",
   "metadata": {},
   "source": [
    "Queen and KNN graphs are relatively similar but, as one would expect, the KNN is sparser than Queen in areas with high density of irregular polygons (Queen will connect each to more than four), and denser in sparser areas with less but larger polygons (e.g., northwest). Focusing on the Queen and Block graphs, there are clear distinctions between the\n",
    "connectivity structures. The Block graph is visually denser in particular areas relative to the\n",
    "Queen graph, and this is captured in their sparsity measures:"
   ]
  },
  {
   "cell_type": "code",
   "execution_count": null,
   "id": "editorial-jumping",
   "metadata": {},
   "outputs": [],
   "source": [
    "mx_bw.pct_nonzero"
   ]
  },
  {
   "cell_type": "code",
   "execution_count": null,
   "id": "presidential-revolution",
   "metadata": {},
   "outputs": [],
   "source": [
    "mx_queen.pct_nonzero"
   ]
  },
  {
   "cell_type": "markdown",
   "id": "valuable-healthcare",
   "metadata": {},
   "source": [
    "The other distinguishing characteristic can be seen in the number of connected\n",
    "components in the different graphs. The Queen graph has a single connected\n",
    "component, which in graph theory terms, means for all pairs of states there is\n",
    "at least one path of edges that connects the two states. The Block graph has\n",
    "five connected components, one for each of the five regions. Moreover, each of\n",
    "these connected components is fully-connected, meaning there is an edge that\n",
    "directly connects each pair of member states. However, there are no edges\n",
    "between states belonging to different blocks (or components).\n",
    "\n",
    "\n",
    "As we will see in later chapters, certain spatial analytical techniques require\n",
    "a fully connected weights graph. In these cases, we could adopt the Queen\n",
    "definition since this satisfies the single connected component requirement.\n",
    "However, we may wish to use the Union weights graph, as that provides a single\n",
    "connected component, but offers a blend of different types of connectivity\n",
    "intensities, with the intra-regional (block) linkages being very dense, while\n",
    "the inter-regional linkages are thinner but provide for the single connected\n",
    "component."
   ]
  },
  {
   "cell_type": "markdown",
   "id": "economic-scene",
   "metadata": {},
   "source": [
    "## Use case: boundary detection"
   ]
  },
  {
   "cell_type": "markdown",
   "id": "widespread-fields",
   "metadata": {},
   "source": [
    "We close the chapter with an illustration of how weights can be useful by themselves in geographic data science. Note that the application displayed below involves some concepts and code that are a bit more advanced than in the rest of the chapter. If you are up for the challenge, we think the insights it enables are worth the effort!\n",
    "\n",
    "Spatial weights are ubiquitous in the analysis of spatial patterns in data, since they provide a direct method to represent spatial structure. \n",
    "However, spatial weights are also useful in their own right, such as when examining latent structures directly in the graphs themselves or when using them to conduct descriptive analysis. \n",
    "One clear use case that arises in the analysis of social data is to characterize latent *data discontinuities*. By *data discontinuity*, we mean a single border (or collection of borders) where data for a variable (or many variables) of interest change abruptly. \n",
    "These can be used in models of inequality {cite}`Lu2005bayesian,Fitzpatrick2010ecological,Dean2019frontiers` or used to adapt classic empirical outlier detection methods. \n",
    "Below, we'll show one model-free way to identify empirical boundaries in your data. "
   ]
  },
  {
   "cell_type": "markdown",
   "id": "english-hunger",
   "metadata": {},
   "source": [
    "First, let's consider the median household income for our census tracts in San Diego, shown in the following figure."
   ]
  },
  {
   "cell_type": "code",
   "execution_count": null,
   "id": "former-hawaiian",
   "metadata": {
    "caption": "Median household incomes in San Diego.",
    "tags": []
   },
   "outputs": [],
   "source": [
    "f, ax = plt.subplots(1, 2, figsize=(12, 4))\n",
    "san_diego_tracts.plot(\"median_hh_income\", ax=ax[0])\n",
    "ax[0].set_axis_off()\n",
    "san_diego_tracts[\"median_hh_income\"].plot.hist(ax=ax[1])\n",
    "plt.show()"
   ]
  },
  {
   "cell_type": "markdown",
   "id": "united-cleaning",
   "metadata": {},
   "source": [
    "Now, we see some cases where there are very stark differences between neighboring areas, and some cases where there appear to be no difference between adjacent areas. Digging into this, we can examine the *distribution of differences* in neighboring areas using the adjacency list, a different representation of a spatial graph:"
   ]
  },
  {
   "cell_type": "code",
   "execution_count": null,
   "id": "national-table",
   "metadata": {},
   "outputs": [],
   "source": [
    "adjlist = w_rook.to_adjlist()\n",
    "adjlist.head()"
   ]
  },
  {
   "cell_type": "markdown",
   "id": "sought-momentum",
   "metadata": {},
   "source": [
    "This provides us with a table featuring three columns. `Focal` is the column containing the \"origin\" of the link, `neighbor` is the column containing the \"destination\" of the link, or neighbor of the focal polygon, and `weight` contains how strong the link from `focal` to `neighbor` is. Since our weights are *symmetrical*, this table contains two entries per pair of neighbors, one for `(focal,neighbor)` and the other for `(neighbor,focal)`. \n",
    "\n",
    "Now we want to connect this table representing spatial structure with information on median household income. Using `pandas`, we can merge up the focal units' and neighboring units' median household incomes:"
   ]
  },
  {
   "cell_type": "code",
   "execution_count": null,
   "id": "exact-sculpture",
   "metadata": {},
   "outputs": [],
   "source": [
    "adjlist_income = adjlist.merge(\n",
    "    san_diego_tracts[[\"median_hh_income\"]],\n",
    "    how=\"left\",\n",
    "    left_on=\"focal\",\n",
    "    right_index=True,\n",
    ").merge(\n",
    "    san_diego_tracts[[\"median_hh_income\"]],\n",
    "    how=\"left\",\n",
    "    left_on=\"neighbor\",\n",
    "    right_index=True,\n",
    "    suffixes=(\"_focal\", \"_neighbor\"),\n",
    ")\n",
    "adjlist_income.info()"
   ]
  },
  {
   "cell_type": "markdown",
   "id": "brutal-family",
   "metadata": {},
   "source": [
    "This operation brings together the income at both the focal observation and the neighbor observation. The difference between these two yields income differences between *adjacent* tracts:"
   ]
  },
  {
   "cell_type": "code",
   "execution_count": null,
   "id": "greek-hunger",
   "metadata": {},
   "outputs": [],
   "source": [
    "adjlist_income[\"diff\"] = (\n",
    "    adjlist_income[\"median_hh_income_focal\"]\n",
    "    - adjlist_income[\"median_hh_income_neighbor\"]\n",
    ")"
   ]
  },
  {
   "cell_type": "markdown",
   "id": "sought-teens",
   "metadata": {},
   "source": [
    "With this information on difference we can now do a few things. First, we can compare whether or not this *distribution* is distinct from the distribution of non-neighboring tracts' differences in wealth. This will give us a hint at the extent to which income follows a spatial pattern. This is also discussed more in depth in the spatial inequality chapter, specifically in reference to the Spatial Gini. \n",
    "\n",
    "To do this, we can first compute the all-pairs differences in income using the `numpy.subtract` function. Some functions in `numpy` have special functionality; these `ufuncs` (short for \"universal functions\") often support special applications to your data. Here, we will use `numpy.subtract.outer` to take the difference over the \"outer Cartesian product\" of two vectors."
   ]
  },
  {
   "cell_type": "code",
   "execution_count": null,
   "id": "weekly-creature",
   "metadata": {},
   "outputs": [],
   "source": [
    "all_pairs = numpy.subtract.outer(\n",
    "    san_diego_tracts[\"median_hh_income\"].values,\n",
    "    san_diego_tracts[\"median_hh_income\"].values,\n",
    ")"
   ]
  },
  {
   "cell_type": "markdown",
   "id": "architectural-regulation",
   "metadata": {},
   "source": [
    "In practice, this results in an $N\\times N$ array that stores the subtraction of all  combinations of the input vectors.\n",
    "\n",
    "Then, we need to filter out those cells of `all_pairs` that are neighbors. Fortunately, our weights matrix is *binary*. So, subtracting it from an $N \\times N$ matrix of $1$s will result in the *complement* of our original weights matrix:"
   ]
  },
  {
   "cell_type": "code",
   "execution_count": null,
   "id": "julian-dancing",
   "metadata": {},
   "outputs": [],
   "source": [
    "complement_wr = 1 - w_rook.sparse.toarray()"
   ]
  },
  {
   "cell_type": "markdown",
   "id": "complicated-touch",
   "metadata": {},
   "source": [
    "Note `complement_wr` inserts a 0 where `w_rook` includes a 1, and vice versa. Using this complement, we can filter the `all_pairs` matrix to only consider the differences in median household income for tracts that are not neighboring: "
   ]
  },
  {
   "cell_type": "code",
   "execution_count": null,
   "id": "turkish-click",
   "metadata": {},
   "outputs": [],
   "source": [
    "non_neighboring_diffs = (complement_wr * all_pairs).flatten()"
   ]
  },
  {
   "cell_type": "markdown",
   "id": "proved-cheat",
   "metadata": {},
   "source": [
    "Now, we can compare the two distributions of the difference in wealth:"
   ]
  },
  {
   "cell_type": "code",
   "execution_count": null,
   "id": "dangerous-oregon",
   "metadata": {
    "caption": "Diferences between median incomes among neighboring (and non-neighboring) tracts in San Diego."
   },
   "outputs": [],
   "source": [
    "f = plt.figure(figsize=(12, 3))\n",
    "plt.hist(\n",
    "    non_neighboring_diffs,\n",
    "    color=\"lightgrey\",\n",
    "    edgecolor=\"k\",\n",
    "    density=True,\n",
    "    bins=50,\n",
    "    label=\"Nonneighbors\",\n",
    ")\n",
    "plt.hist(\n",
    "    adjlist_income[\"diff\"],\n",
    "    color=\"salmon\",\n",
    "    edgecolor=\"orangered\",\n",
    "    linewidth=3,\n",
    "    density=True,\n",
    "    histtype=\"step\",\n",
    "    bins=50,\n",
    "    label=\"Neighbors\",\n",
    ")\n",
    "seaborn.despine()\n",
    "plt.ylabel(\"Density\")\n",
    "plt.xlabel(\"Dollar Differences ($)\")\n",
    "plt.legend();"
   ]
  },
  {
   "cell_type": "markdown",
   "id": "internal-wallet",
   "metadata": {},
   "source": [
    "From this, we can see that the two distributions are distinct, with the distribution of difference in *non-neighboring* tracts being slightly more dispersed than that for *neighboring* tracts. Thus, on the whole, this means that neighboring tracts have more *smaller differences in wealth* than non-neighboring tracts. This is consistent with the behavior we will talk about in later chapters concerning *spatial autocorrelation*, the tendency for observations to be statistically more similar to nearby observations than they are to distant observations. "
   ]
  },
  {
   "cell_type": "markdown",
   "id": "republican-observer",
   "metadata": {},
   "source": [
    "The adjacency table we have built can also help us find our *most extreme* observed differences in income, hinting at possible hard boundaries between the areas. Since our links are symmetric, we can then focus only on focal observations with *the most extreme* difference in wealth from their immediate neighbors, considering only those where the *focal* is higher, since they each have an equivalent *negative* back-link."
   ]
  },
  {
   "cell_type": "code",
   "execution_count": null,
   "id": "architectural-reply",
   "metadata": {},
   "outputs": [],
   "source": [
    "extremes = adjlist_income.sort_values(\"diff\", ascending=False).head()\n",
    "extremes"
   ]
  },
  {
   "cell_type": "markdown",
   "id": "exciting-attraction",
   "metadata": {},
   "source": [
    "Thus, we see that observation $473$ appears often on  the `focal` side, suggesting it's quite distinct from its nearby polygons. "
   ]
  },
  {
   "cell_type": "markdown",
   "id": "featured-louis",
   "metadata": {},
   "source": [
    "To verify whether these differences are truly significant, we can use a map randomization strategy. In this case, we shuffle values across the map and compute *new* `diff` columns. This time, `diff` represents the difference between random incomes, rather than the neighboring incomes we actually observed using our Rook contiguity matrix. Using many `diff` vectors, we can find the observed differences which tend to be much larger than those encountered in randomly-drawn maps of household income.\n",
    "\n",
    "To start, we can construct many random `diff` vectors:"
   ]
  },
  {
   "cell_type": "code",
   "execution_count": null,
   "id": "requested-queensland",
   "metadata": {},
   "outputs": [],
   "source": [
    "## NOTE: this cell runs a simulation and may take a bit longer\n",
    "## If you want it to run faster, decrease the number of shuffles\n",
    "## by setting a lower value in `n_simulations`\n",
    "\n",
    "# Set number or random shuffles\n",
    "n_simulations = 1000\n",
    "# Create an empty array to store results\n",
    "simulated_diffs = numpy.empty((len(adjlist), n_simulations))\n",
    "# Loop over each random draw\n",
    "for i in range(n_simulations):\n",
    "    # Extract income values\n",
    "    median_hh_focal = adjlist_income[\"median_hh_income_focal\"].values\n",
    "    # Shuffle income values across locations\n",
    "    random_income = (\n",
    "        san_diego_tracts[[\"median_hh_income\"]]\n",
    "        .sample(frac=1, replace=False)\n",
    "        .reset_index()\n",
    "    )\n",
    "    # Join income to adjacency\n",
    "    adjlist_random_income = adjlist.merge(\n",
    "        random_income, left_on=\"focal\", right_index=True\n",
    "    ).merge(\n",
    "        random_income,\n",
    "        left_on=\"neighbor\",\n",
    "        right_index=True,\n",
    "        suffixes=(\"_focal\", \"_neighbor\"),\n",
    "    )\n",
    "    # Store reslults from random draw\n",
    "    simulated_diffs[:, i] = (\n",
    "        adjlist_random_income[\"median_hh_income_focal\"]\n",
    "        - adjlist_random_income[\"median_hh_income_neighbor\"]\n",
    "    )"
   ]
  },
  {
   "cell_type": "markdown",
   "id": "rocky-telescope",
   "metadata": {},
   "source": [
    "After running our simulation, we get many distributions of pairwise differences in household income. Below, we plot the shroud of all the simulated differences, shown in black, and our observed differences, shown in red:"
   ]
  },
  {
   "cell_type": "code",
   "execution_count": null,
   "id": "mysterious-cream",
   "metadata": {
    "caption": "Differences between neighboring incomes for the observed map (orange) and maps arising from randomly reshuffled maps (black) of tract median incomes. Code generated for this figure is available on the web version of the book.",
    "tags": [
     "hide-input"
    ]
   },
   "outputs": [],
   "source": [
    "# Set up figure\n",
    "f = plt.figure(figsize=(12, 3))\n",
    "# Build background histogram for observed differences\n",
    "plt.hist(\n",
    "    adjlist_income[\"diff\"],\n",
    "    color=\"salmon\",\n",
    "    bins=50,\n",
    "    density=True,\n",
    "    alpha=1,\n",
    "    linewidth=4,\n",
    ")\n",
    "# Plot simulated, random differences\n",
    "[\n",
    "    plt.hist(\n",
    "        simulation,\n",
    "        histtype=\"step\",\n",
    "        color=\"k\",\n",
    "        alpha=0.01,\n",
    "        linewidth=1,\n",
    "        bins=50,\n",
    "        density=True,\n",
    "    )\n",
    "    for simulation in simulated_diffs.T\n",
    "]\n",
    "# Build histogram borderline for observed differences\n",
    "plt.hist(\n",
    "    adjlist_income[\"diff\"],\n",
    "    histtype=\"step\",\n",
    "    edgecolor=\"orangered\",\n",
    "    bins=50,\n",
    "    density=True,\n",
    "    linewidth=2,\n",
    ")\n",
    "# Style figure\n",
    "seaborn.despine()\n",
    "plt.ylabel(\"Density\")\n",
    "plt.xlabel(\"Dollar Differences ($)\")\n",
    "plt.show()"
   ]
  },
  {
   "cell_type": "markdown",
   "id": "opponent-custom",
   "metadata": {},
   "source": [
    "Again, our random distribution is much more dispersed than our observed distribution of the differences between nearby tracts. Empirically, we can pool our simulations and construct and use their quantiles to summarize how unlikely any of our *observed* differences are if neighbors' household incomes were randomly assigned:"
   ]
  },
  {
   "cell_type": "code",
   "execution_count": null,
   "id": "wooden-screening",
   "metadata": {},
   "outputs": [],
   "source": [
    "simulated_diffs.flatten().shape"
   ]
  },
  {
   "cell_type": "code",
   "execution_count": null,
   "id": "wound-behavior",
   "metadata": {},
   "outputs": [],
   "source": [
    "# Convert all simulated differences into a single vector\n",
    "pooled_diffs = simulated_diffs.flatten()\n",
    "# Calculate the 0.5th, 50th and 99.5th percentiles\n",
    "lower, median, upper = numpy.percentile(\n",
    "    pooled_diffs, q=(0.5, 50, 99.5)\n",
    ")\n",
    "# Create a swith that is True if the value is \"extreme\"\n",
    "# (in the 0.5th percentile or/`|` in the 00.5th), False otherwise\n",
    "outside = (adjlist_income[\"diff\"] < lower) | (\n",
    "    adjlist_income[\"diff\"] > upper\n",
    ")"
   ]
  },
  {
   "cell_type": "markdown",
   "id": "brazilian-cradle",
   "metadata": {},
   "source": [
    "Despite the fact  that our observed differences are less dispersed on average, we can identify two boundaries in the data that are in the top 1% most extreme differences in neighboring household incomes across the map. These boundaries are shown in the table below:"
   ]
  },
  {
   "cell_type": "code",
   "execution_count": null,
   "id": "later-tampa",
   "metadata": {},
   "outputs": [],
   "source": [
    "adjlist_income[outside]"
   ]
  },
  {
   "cell_type": "markdown",
   "id": "vocal-platform",
   "metadata": {},
   "source": [
    "Note that one of these, observation $473$, appears in both boundaries. This means that the observation is likely to be *outlying*, extremely unlike *all* of its neighbors. These kinds of generalized neighborhood comparisons are discussed in the subsequent chapter on local spatial autocorrelation. For now we can visualize this on a map, focusing on the two boundaries around observation $473$, shown also in the larger context of San Diego incomes:"
   ]
  },
  {
   "cell_type": "code",
   "execution_count": null,
   "id": "suspected-format",
   "metadata": {
    "caption": "The two starkest differences in median household income among San Diego tracts. Code generated for this figure is available on the web version of the book.",
    "tags": [
     "hide-input"
    ]
   },
   "outputs": [],
   "source": [
    "f, ax = plt.subplots(1, 3, figsize=(18, 6))\n",
    "\n",
    "# Plot tracts\n",
    "for i in range(2):\n",
    "    san_diego_tracts.plot(\"median_hh_income\", ax=ax[i])\n",
    "\n",
    "# Zoom 1\n",
    "first_focus = san_diego_tracts.iloc[[473, 157]]\n",
    "ax[0].plot(\n",
    "    first_focus.centroid.x, first_focus.centroid.y, color=\"red\"\n",
    ")\n",
    "west, east, south, north = first_focus.buffer(1000).total_bounds\n",
    "ax[0].axis([west, south, east, north])\n",
    "ax[0].set_axis_off()\n",
    "\n",
    "# Zoom 2\n",
    "second_focus = san_diego_tracts.iloc[[473, 163]]\n",
    "ax[1].plot(\n",
    "    second_focus.centroid.x, second_focus.centroid.y, color=\"red\"\n",
    ")\n",
    "ax[1].axis([west, south, east, north])\n",
    "ax[1].set_axis_off()\n",
    "\n",
    "# Context\n",
    "san_diego_tracts.plot(\n",
    "    facecolor=\"k\", edgecolor=\"w\", linewidth=0.5, alpha=0.5, ax=ax[2]\n",
    ")\n",
    "contextily.add_basemap(ax[2], crs=san_diego_tracts.crs)\n",
    "area_of_focus = (\n",
    "    pandas.concat((first_focus, second_focus))\n",
    "    .buffer(12000)\n",
    "    .total_bounds\n",
    ")\n",
    "ax[2].plot(\n",
    "    first_focus.centroid.x, first_focus.centroid.y, color=\"red\"\n",
    ")\n",
    "ax[2].plot(\n",
    "    second_focus.centroid.x, second_focus.centroid.y, color=\"red\"\n",
    ")\n",
    "west, east, south, north = area_of_focus\n",
    "ax[2].axis([west, south, east, north])\n",
    "ax[2].set_axis_off()"
   ]
  },
  {
   "cell_type": "markdown",
   "id": "exceptional-intermediate",
   "metadata": {},
   "source": [
    "These are the starkest contrasts in the map, and result in the most distinctive divisions between adjacent tracts' household incomes. "
   ]
  },
  {
   "cell_type": "markdown",
   "id": "paperback-answer",
   "metadata": {},
   "source": [
    "## Conclusion\n",
    "\n",
    "Spatial weights are central to how we *represent* spatial relationships in mathematical and computational environments. At their core, they are a \"geo-graph,\" or a network defined by the geographical relationships between observations. They form kind of a \"spatial index,\" in that they record which observations have a specific geographical relationship. Since spatial weights are fundamental to how spatial relationships are represented in geographic data science, we will use them again and again throughout the book. "
   ]
  },
  {
   "cell_type": "markdown",
   "id": "cardiac-pressing",
   "metadata": {},
   "source": [
    "## Questions"
   ]
  },
  {
   "cell_type": "markdown",
   "id": "graphic-sponsorship",
   "metadata": {},
   "source": [
    "1. Rook contiguity and Queen contiguity are two of three kinds of contiguity that are defined in terms of chess analogies. The third kind, *Bishop contiguity*, applies when two observations are considered connected when they share single vertices, but are considered *disconnected* if they share an edge. This means that observations that exhibit Queen contiguity are those that exhibit either Rook or Bishop contiguity. Using the Rook and Queen contiguity matrices we built for San Diego and the `Wsets.w_difference` function, are there any Bishop-contiguous observations in San Diego? \n",
    "\n",
    "2. Different kinds of spatial weights objects can result in very different kinds of graph structures. Considering the `cardinalities` of the Queen, Block, and the union of Queen and Block, \n",
    "    1. Which graph type has the highest average cardinality?\n",
    "    2. Which graph has more non-zero entries?\n",
    "    3. Why might this be the case?\n",
    "\n",
    "3. Graphs are considered \"connected\" when you can construct a path from any observation to every other observation. A \"disconnected\" graph has at least one node where there is no path from it to every other node. And, a \"connected component\" is a part of the graph that is connected internally, but it is disconnected from another part of the graph. This is reported for every spatial weights object in its `w.n_components`. \n",
    "\n",
    "    1. How many components does the Queen Contiguity weights for San Diego have?\n",
    "    2. Using a K-nearest Neighbor Graph for San Diego tracts where $k=1$, how many connected components are there in this graph?\n",
    "    3. Increase $k$ by one until the `n_components` is 1. Make a plot of the relationship between $k$ and `n_components`. \n",
    "    4. What value of $k$ does `n_components` become 1?\n",
    "    5. How many non-zero links does this network have?\n",
    "\n",
    "4. Comparing their average cardinality and percentage of non-zero links, which graph in this chapter has the *most sparse* structure? That is, which graph is the most sparsely connected?\n",
    "\n",
    "5. In this chapter, we worked with regular *square* lattices using the `lat2W` function. In the same manner, the `hexLat2W` function can generate *hexagonal regular lattices*. For lattices of size (3,3), (6,6), and (9,9) for Rook and Queen `lat2W`, as well as for `hexLat2W`:\n",
    "\n",
    "    1. Examine the average cardinality. Does `lat2W` or `hexLat2W` have higher average cardinality? \n",
    "    2. Further, make a histogram of the cardinalities. Which type of lattice has higher variation in its number of neighbors? \n",
    "    3. Why is there no `rook=True` option in `hexLat2W`, as there is in `lat2W`?\n",
    "\n",
    "6. The *Voronoi diagram* is a common method to construct polygons from a point dataset. A Voronoi diagram is built up from *Voronoi cells*, each of which contains the area that is closer to its source point than any other source point in the diagram. Further, the Queen contiguity graph for a *Voronoi diagram* obeys a number of useful properties, since it is the *Delaunay Triangulation* of a set of points. \n",
    "    1. Using the following code, build and plot the Voronoi diagram for the *centroids* of Mexican states, with the states and their centroids overlayed:\n",
    "    ```python\n",
    "    from pysal.lib.weights.distance import get_points_array\n",
    "    from pysal.lib.cg import voronoi_frames\n",
    "    \n",
    "    centroid_coordinates = get_points_array(mx.centroid)\n",
    "    cells, centers = voronoi_frames(centroid_coordinates)\n",
    "    \n",
    "    ax = cells.plot(facecolor='none', edgecolor='k')\n",
    "    mx.plot(ax=ax, edgecolor='red', facecolor='whitesmoke', alpha=.5)\n",
    "    mx.centroid.plot(ax=ax,color='red', alpha=.5, markersize=10)\n",
    "    ax.axis(mx.total_bounds[[0,2,1,3]])\n",
    "    plt.show()\n",
    "    ```\n",
    "    2. Using the `weights.Voronoi` function, build the Voronoi weights for the Mexico states data.\n",
    "    3. Compare the connections in the Voronoi and Queen weights for the Mexico states data. Which form is more connected? \n",
    "    4. Make a plot of the Queen contiguity and Voronoi contiguity graphs to compare them visually, like we did with the block weights and Queen weights. How do the two graphs compare in terms of the length of their links and how they connect the Mexican states?\n",
    "    5. Using `weights.set_operations`, find any links that are in the Voronoi contiguity graph, but not in the Queen contiguity graph. Alternatively, find any links that are in the Queen contiguity graph, but not the Voronoi contiguity graph. \n",
    "\n",
    "7. Interoperability is important for the Python scientific stack. Thanks to standardization around the `numpy` array and the `scipy.sparse` array data structures, it is simple and computationally-easy to convert objects from one representation to another:\n",
    "    1. Using `w.to_networkx()`, convert the Mexico Regions Queen+Block weights matrix to a `networkx` graph. Compute the Eigenvector Centrality of that new object using `networkx.eigenvector_centrality`\n",
    "    2. Using `w.sparse`, compute the number of connected components in the Mexico Regions Block weights matrix using the `connected_components` function in `scipy.sparse.csgraph`. \n",
    "    3. Using `w.sparse`, compute the all-pairs shortest path matrix in the Mexico Queen weights matrix using the `shortest_path` function in `scipy.sparse.csgraph`. \n",
    "    \n",
    "8. While every node in a $k$-nearest neighbor graph has five neighbors, there is a conceptual difference between *in-degree* and *out-degree* of nodes in a graph. The *out-degree* of a node is the number of outgoing links from a node; for a K-Nearest Neighbor graph, this is $k$ for every variable. The *in-degree* of a node in a graph is the number of *incoming* links to that node; for a K-Nearest Neighbor graph, this is the number of other observations that pick the target as their nearest neighbor. The *in-degree* of a node in the K-Nearest Neighbor graph can provide a measure of *hubbiness*, or how central a node is to other nodes. \n",
    "    1. Using the San Diego tracts data, build a $k=6$ nearest neighbor weight and call it `knn_6`. \n",
    "    2. Verify that the $k=6$ by taking the row sum over the weights matrix in `knn_6.sparse`.\n",
    "    3. Compute the in-degree of each observation by taking the *column sum* over the weights matrix in `knn_6.sparse`, and divide by 6, the out-degree for all observations. \n",
    "    4. Make a histogram of the in-degrees for the $k=6$ weights. How evenly-distributed is the distribution of in-degrees?\n",
    "    5. Make a new histogram of the in-degree standardized by the out-degree when $k=26$. Does hubbiness reduce when increasing the number of $k$-nearest neighbors?\n",
    "\n",
    "9. Sometimes, graphs are not simple to construct. For the `san_diego_neighborhoods` dataset:\n",
    "    1. Build the Queen contiguity weights, and plot the graph on top of the neighborhoods themselves. How many connected components does this Queen contiguity graph have? \n",
    "    2. Build the K-Nearest Neighbor graph for the default, $k=2$. How many connected components does this K-Nearest Neighbor graph have? \n",
    "    3. What is the smallest $k$ that you can find for the K-Nearest Neighbor graph to be fully-connected?\n",
    "    4. In graph theory, a link whose *removal* will increase the number of connected components in a graph is called a *bridge*. In the fully-connected KNN graph with the smallest $k$, how many bridges are there between the north and south components? *(hint: use the plotting functionality)*\n",
    "    5. What are the next two values of $k$ required for there to be an *additional* bridge at that $k$?"
   ]
  },
  {
   "cell_type": "markdown",
   "id": "united-split",
   "metadata": {},
   "source": [
    "[^regions]: Usually, this list will have some relation to the spatial configuration of the data, but, technically speaking, all one needs to create block weights is a list of memberships.\n",
    "\n",
    "## Next steps\n",
    "\n",
    "For additional reading and further information on the topic of networks and spatial weights matrices, consider chapter 3 of Anselin and Rey, *Modern Spatial Econometrics in Practice: A Guide to GeoDa, GeoDaSpace, and Pysal*. Further, for more general thinking on networks in geography, consider: \n",
    "\n",
    "Uitermark, Justus and Michiel van Meeteren. 2021. \"Geographcial Network Analysis.\" *Tijdschrift voor economische en sociale geografie* 112: 337-350. "
   ]
  }
 ],
 "metadata": {
  "jupytext": {
   "formats": "ipynb,md"
  },
  "kernelspec": {
   "display_name": "Python 3 (ipykernel)",
   "language": "python",
   "name": "python3"
  },
  "language_info": {
   "codemirror_mode": {
    "name": "ipython",
    "version": 3
   },
   "file_extension": ".py",
   "mimetype": "text/x-python",
   "name": "python",
   "nbconvert_exporter": "python",
   "pygments_lexer": "ipython3",
   "version": "3.11.9"
  }
 },
 "nbformat": 4,
 "nbformat_minor": 5
}
